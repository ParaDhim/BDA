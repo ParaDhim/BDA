{
 "cells": [
  {
   "cell_type": "code",
   "execution_count": 2,
   "metadata": {},
   "outputs": [
    {
     "name": "stdout",
     "output_type": "stream",
     "text": [
      "1\n"
     ]
    }
   ],
   "source": [
    "from math import gcd\n",
    "\n",
    "def maximize_score(arr):\n",
    "    n = len(arr)\n",
    "    if n == 2:\n",
    "        return max(arr)\n",
    "\n",
    "    # Calculate the GCD of the entire array\n",
    "    total_gcd = arr[0]\n",
    "    for i in range(1, n):\n",
    "        total_gcd = gcd(total_gcd, arr[i])\n",
    "\n",
    "    # Calculate the GCD of the array without each element\n",
    "    max_score = total_gcd\n",
    "    for i in range(n):\n",
    "        partial_gcd = arr[0]\n",
    "        for j in range(1, n):\n",
    "            if j != i:\n",
    "                partial_gcd = gcd(partial_gcd, arr[j])\n",
    "        max_score = max(max_score, partial_gcd)\n",
    "\n",
    "    return max_score\n",
    "\n",
    "# Read the input\n",
    "n = int(input())\n",
    "arr = [int(input()) for _ in range(n)]\n",
    "\n",
    "# Maximize the score\n",
    "print(maximize_score(arr))"
   ]
  },
  {
   "cell_type": "code",
   "execution_count": 3,
   "metadata": {},
   "outputs": [
    {
     "name": "stdout",
     "output_type": "stream",
     "text": [
      "8\n"
     ]
    }
   ],
   "source": [
    "def find_median(N):\n",
    "    left, right = 1, N * N\n",
    "    while left <= right:\n",
    "        mid = (left + right) // 2\n",
    "        count = 0\n",
    "        for i in range(1, N + 1):\n",
    "            count += min(mid // i, N)\n",
    "        if count < (N * N + 1) // 2:\n",
    "            left = mid + 1\n",
    "        else:\n",
    "            right = mid - 1\n",
    "    return str(left)\n",
    "\n",
    "# Read the input\n",
    "N = int(input())\n",
    "\n",
    "# Find the median\n",
    "print(find_median(N))"
   ]
  },
  {
   "cell_type": "code",
   "execution_count": null,
   "metadata": {},
   "outputs": [],
   "source": [
    "62.\n",
    "\n",
    "string IndianGeek(int N):\n",
    "    left, right = 1, N * N\n",
    "    while left <= right:\n",
    "        mid = (left + right) // 2\n",
    "        count = 0\n",
    "        for i in range(1, N + 1):\n",
    "            count += min(mid // i, N)\n",
    "        if count < (N * N + 1) // 2:\n",
    "            left = mid + 1\n",
    "        else:\n",
    "            right = mid - 1\n",
    "    return str(left)"
   ]
  }
 ],
 "metadata": {
  "kernelspec": {
   "display_name": "Python 3",
   "language": "python",
   "name": "python3"
  },
  "language_info": {
   "codemirror_mode": {
    "name": "ipython",
    "version": 3
   },
   "file_extension": ".py",
   "mimetype": "text/x-python",
   "name": "python",
   "nbconvert_exporter": "python",
   "pygments_lexer": "ipython3",
   "version": "3.11.1"
  }
 },
 "nbformat": 4,
 "nbformat_minor": 2
}
