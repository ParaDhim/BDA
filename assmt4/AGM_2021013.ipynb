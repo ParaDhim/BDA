{
  "nbformat": 4,
  "nbformat_minor": 0,
  "metadata": {
    "colab": {
      "provenance": []
    },
    "kernelspec": {
      "name": "python3",
      "display_name": "Python 3"
    },
    "language_info": {
      "name": "python"
    }
  },
  "cells": [
    {
      "cell_type": "code",
      "source": [
        "!pip install graphframes"
      ],
      "metadata": {
        "colab": {
          "base_uri": "https://localhost:8080/"
        },
        "id": "N_o0T8GZ1RzM",
        "outputId": "e655ac53-4339-4bc7-f587-305c19e8bf65"
      },
      "execution_count": 2,
      "outputs": [
        {
          "output_type": "stream",
          "name": "stdout",
          "text": [
            "Collecting graphframes\n",
            "  Downloading graphframes-0.6-py2.py3-none-any.whl.metadata (934 bytes)\n",
            "Requirement already satisfied: numpy in /usr/local/lib/python3.10/dist-packages (from graphframes) (1.26.4)\n",
            "Collecting nose (from graphframes)\n",
            "  Downloading nose-1.3.7-py3-none-any.whl.metadata (1.7 kB)\n",
            "Downloading graphframes-0.6-py2.py3-none-any.whl (18 kB)\n",
            "Downloading nose-1.3.7-py3-none-any.whl (154 kB)\n",
            "\u001b[2K   \u001b[90m━━━━━━━━━━━━━━━━━━━━━━━━━━━━━━━━━━━━━━━━\u001b[0m \u001b[32m154.7/154.7 kB\u001b[0m \u001b[31m7.7 MB/s\u001b[0m eta \u001b[36m0:00:00\u001b[0m\n",
            "\u001b[?25hInstalling collected packages: nose, graphframes\n",
            "Successfully installed graphframes-0.6 nose-1.3.7\n"
          ]
        }
      ]
    },
    {
      "cell_type": "code",
      "source": [
        "from pyspark.sql import SparkSession\n",
        "from graphframes import GraphFrame\n",
        "import pandas as pd\n",
        "import json"
      ],
      "metadata": {
        "id": "rV8oHGh_5vad"
      },
      "execution_count": 3,
      "outputs": []
    },
    {
      "cell_type": "code",
      "source": [
        "spark = SparkSession.builder \\\n",
        "    .appName(\"AGM Community Detection\") \\\n",
        "    .config(\"spark.jars.packages\", \"graphframes:graphframes:0.8.2-spark3.0-s_2.12\") \\\n",
        "    .getOrCreate()"
      ],
      "metadata": {
        "id": "lux19Y7xqqWq"
      },
      "execution_count": 4,
      "outputs": []
    },
    {
      "cell_type": "code",
      "source": [
        "edges_path = \"/content/drive/MyDrive/git_web_ml/musae_git_edges.csv\"\n",
        "targets_path = \"/content/drive/MyDrive/git_web_ml/musae_git_target.csv\"\n",
        "features_path = \"/content/drive/MyDrive/git_web_ml/musae_git_features.json\""
      ],
      "metadata": {
        "id": "NXbTjq6UqyIJ"
      },
      "execution_count": 5,
      "outputs": []
    },
    {
      "cell_type": "code",
      "source": [
        "edges_df = spark.read.csv(edges_path, header=True)\n",
        "edges_df = edges_df.withColumnRenamed(\"id_1\", \"src\").withColumnRenamed(\"id_2\", \"dst\")"
      ],
      "metadata": {
        "id": "nLqQ287BrIGh"
      },
      "execution_count": 6,
      "outputs": []
    },
    {
      "cell_type": "code",
      "source": [
        "nodes_df = spark.read.csv(targets_path, header=True).select(\"id\", \"name\")"
      ],
      "metadata": {
        "id": "Vy-OTIKfrLqV"
      },
      "execution_count": 7,
      "outputs": []
    },
    {
      "cell_type": "code",
      "source": [
        "with open(features_path, 'r') as f:\n",
        "    features = json.load(f)"
      ],
      "metadata": {
        "id": "PtHWUO6-rS2f"
      },
      "execution_count": 8,
      "outputs": []
    },
    {
      "cell_type": "code",
      "source": [
        "features_df = pd.DataFrame(list(features.items()), columns=['id', 'features'])"
      ],
      "metadata": {
        "id": "rpLKQWjDrV8u"
      },
      "execution_count": 9,
      "outputs": []
    },
    {
      "cell_type": "code",
      "source": [
        "graph = GraphFrame(nodes_df, edges_df)"
      ],
      "metadata": {
        "colab": {
          "base_uri": "https://localhost:8080/"
        },
        "id": "G0p5_wQMrZvf",
        "outputId": "95cf25a5-ceaf-41c5-ac1a-e5d90bbb772d"
      },
      "execution_count": 10,
      "outputs": [
        {
          "output_type": "stream",
          "name": "stderr",
          "text": [
            "/usr/local/lib/python3.10/dist-packages/pyspark/sql/dataframe.py:168: UserWarning: DataFrame.sql_ctx is an internal property, and will be removed in future releases. Use DataFrame.sparkSession instead.\n",
            "  warnings.warn(\n"
          ]
        }
      ]
    },
    {
      "cell_type": "code",
      "source": [
        "communities = graph.labelPropagation(maxIter=10)"
      ],
      "metadata": {
        "colab": {
          "base_uri": "https://localhost:8080/"
        },
        "id": "ib3WBiKUrchC",
        "outputId": "d1f81ac7-3d71-4dae-f42d-324f9971209d"
      },
      "execution_count": 11,
      "outputs": [
        {
          "output_type": "stream",
          "name": "stderr",
          "text": [
            "/usr/local/lib/python3.10/dist-packages/pyspark/sql/dataframe.py:147: UserWarning: DataFrame constructor is internal. Do not directly use it.\n",
            "  warnings.warn(\"DataFrame constructor is internal. Do not directly use it.\")\n"
          ]
        }
      ]
    },
    {
      "cell_type": "code",
      "source": [
        "community_assignments = communities.rdd.map(lambda row: (row.id, row.label)).collectAsMap()"
      ],
      "metadata": {
        "id": "M6IrIs9trgTW"
      },
      "execution_count": 12,
      "outputs": []
    },
    {
      "cell_type": "code",
      "source": [
        "edges_rdd = edges_df.rdd.map(lambda row: (row.src, row.dst))"
      ],
      "metadata": {
        "id": "mH2sVGq7s-P6"
      },
      "execution_count": 13,
      "outputs": []
    },
    {
      "cell_type": "code",
      "source": [
        "def calculate_modularity(edges_rdd, community_assignments):\n",
        "    m = edges_rdd.count()\n",
        "    communities = set(community_assignments.values())\n",
        "    modularity = 0.0\n",
        "\n",
        "    for community in communities:\n",
        "        nodes_in_community = {node for node, label in community_assignments.items() if label == community}\n",
        "        internal_edges = edges_rdd.filter(\n",
        "            lambda edge: edge[0] in nodes_in_community and edge[1] in nodes_in_community\n",
        "        ).count()\n",
        "        degree_sum = edges_rdd.filter(\n",
        "            lambda edge: edge[0] in nodes_in_community or edge[1] in nodes_in_community\n",
        "        ).count()\n",
        "        modularity += (internal_edges / m) - (degree_sum / (2 * m))**2\n",
        "\n",
        "    return modularity"
      ],
      "metadata": {
        "id": "NTkQaNs9tGkz"
      },
      "execution_count": 15,
      "outputs": []
    },
    {
      "cell_type": "code",
      "source": [
        "modularity_score = calculate_modularity(edges_rdd, community_assignments)\n",
        "\n",
        "print(f\"Detected Communities: {communities.show(truncate=False)}\")\n",
        "print(f\"Modularity Score: {modularity_score}\")"
      ],
      "metadata": {
        "colab": {
          "base_uri": "https://localhost:8080/"
        },
        "id": "r3_sr6o9tPaN",
        "outputId": "37b45415-050c-4cff-b092-60ee43a591c6"
      },
      "execution_count": 16,
      "outputs": [
        {
          "output_type": "stream",
          "name": "stdout",
          "text": [
            "+---+-----------------+------------+\n",
            "|id |name             |label       |\n",
            "+---+-----------------+------------+\n",
            "|0  |Eiryyy           |833223655499|\n",
            "|1  |shawflying       |833223655499|\n",
            "|2  |JpMCarrilho      |833223655499|\n",
            "|3  |SuhwanCha        |833223655499|\n",
            "|4  |sunilangadi2     |833223655499|\n",
            "|5  |j6montoya        |833223655499|\n",
            "|6  |sfate            |833223655499|\n",
            "|7  |amituuush        |833223655499|\n",
            "|8  |mauroherlein     |833223655499|\n",
            "|9  |ParadoxZero      |833223655499|\n",
            "|10 |llazzaro         |833223655499|\n",
            "|11 |beeva-manueldepaz|833223655499|\n",
            "|12 |damianmuti       |833223655499|\n",
            "|13 |apobbati         |833223655499|\n",
            "|14 |hwlv             |833223655499|\n",
            "|15 |haroldoramirez   |833223655499|\n",
            "|16 |jasonblanchard   |833223655499|\n",
            "|17 |BahiHussein      |833223655499|\n",
            "|18 |itsmevanessi     |833223655499|\n",
            "|19 |nwjsmith         |833223655499|\n",
            "+---+-----------------+------------+\n",
            "only showing top 20 rows\n",
            "\n",
            "Detected Communities: None\n",
            "Modularity Score: 0.7466594985986716\n"
          ]
        }
      ]
    }
  ]
}